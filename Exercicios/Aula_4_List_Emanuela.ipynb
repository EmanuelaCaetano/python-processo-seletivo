{
  "cells": [
    {
      "cell_type": "markdown",
      "metadata": {
        "id": "0CITupjC5qaN"
      },
      "source": [
        "## Listas e dicionários\n",
        "\n",
        "Ambos são conhecidos como estruturas de dados, eles nos ajudam a armazenar dados e podemos realizar operações neles, mostraremos alguns exemplos e você poderá continuar testando algumas operações."
      ]
    },
    {
      "cell_type": "markdown",
      "metadata": {
        "id": "-SviEnyu5qaW"
      },
      "source": [
        "### Listas\n",
        "\n",
        "As listas são como as listas que normalmente conhecemos no mundo real, como listas de alunos, lista de números de telefone, etc. E como na vida real em python eles também possuem uma ordem, com a diferença que a primeira posição é 0, vejamos alguns exemplos:"
      ]
    },
    {
      "cell_type": "code",
      "execution_count": null,
      "metadata": {
        "id": "x4nv4W1h5qaX",
        "outputId": "9e5025c1-f07e-417e-d4e7-af1d197eb8f3"
      },
      "outputs": [
        {
          "name": "stdout",
          "output_type": "stream",
          "text": [
            "green\n"
          ]
        }
      ],
      "source": [
        "colors = [\"green\", \"blue\", \"yellow\", \"red\"]\n",
        "\n",
        "## Acessamos o valor da primeira posição da lista usando o valor 0, que chamaremos de índice\n",
        "print(colors[0])"
      ]
    },
    {
      "cell_type": "code",
      "execution_count": null,
      "metadata": {
        "id": "qnRzw0L05qaa"
      },
      "outputs": [],
      "source": [
        "## O que acontece se acessarmos uma posição que não existe na lista:\n",
        "\n",
        "ages = [12, 13, 45, 34, 23]\n",
        "\n",
        "## Ele lançará uma exceção explicando o motivo.\n",
        "print(ages[12])"
      ]
    },
    {
      "cell_type": "code",
      "execution_count": null,
      "metadata": {
        "id": "K-ucok3h5qac",
        "outputId": "947608a7-a453-4a9b-e95f-bf2afbc4ca17"
      },
      "outputs": [
        {
          "name": "stdout",
          "output_type": "stream",
          "text": [
            "[12, 'Carlos', 'Robert', '999', 909]\n"
          ]
        }
      ],
      "source": [
        "## Você viu que nos exemplos usamos apenas um único tipo de dado na lista\n",
        "## Mas podemos ter vários tipos em uma lista\n",
        "\n",
        "students = [12, \"Carlos\", \"Robert\", \"999\", 909]\n",
        "## Imprimimos a lista sem problemas porque é válida\n",
        "print(students)"
      ]
    },
    {
      "cell_type": "markdown",
      "metadata": {
        "id": "PUUxg-ws5qac"
      },
      "source": [
        "Podemos fazer várias operações com as listas, aqui estão algumas:\n",
        "\n",
        "- **index(value_to_search):** Retorna o valor a ser pesquisado na lista.\n",
        "- **insert(position, value_to_add):** Adiciona um valor à lista, em uma determinada posição.\n",
        "- **max(lista):** Retorna o valor máximo de uma lista.\n",
        "- **min(lista):** Retorna o valor mínimo de uma lista.\n",
        "- **list.count(value):** Retorna o número de vezes que um valor está em uma lista.\n",
        "- **append(value)** Adiciona um valor à lista na última posição\n"
      ]
    },
    {
      "cell_type": "code",
      "execution_count": null,
      "metadata": {
        "id": "QQ9T_0RV5qad"
      },
      "outputs": [],
      "source": [
        "## Vamos testar o anexo com uma entrada usando a função input()\n",
        "\n",
        "accounts = ['123', '345', '345', '900']\n",
        "account = input(\"Write an account: \")\n",
        "\n",
        "accounts.append(account)\n",
        "\n",
        "## Você pode tentar usar as outras operações.\n",
        "print(accounts)"
      ]
    },
    {
      "cell_type": "markdown",
      "metadata": {
        "id": "8Jbh3V6Y5qaf"
      },
      "source": [
        "### Dicionários\n",
        "\n",
        "Assim como as listas, elas não diferem muito do que conhecemos na vida real, usamos uma chave que chamaremos de `chave` para acessar um valor que em python conhecemos como `valor`, diferente das listas essa estrutura não tem um valor definido ordem, vamos ver alguns exemplos."
      ]
    },
    {
      "cell_type": "code",
      "execution_count": null,
      "metadata": {
        "id": "Al5sMIfV5qag",
        "outputId": "323d6fbc-2805-4733-a132-3c81e45aa0cd"
      },
      "outputs": [
        {
          "name": "stdout",
          "output_type": "stream",
          "text": [
            "12\n"
          ]
        }
      ],
      "source": [
        "names_by_age = {\"carlos\": 12, \"pablo\": 23, \"mendoza\": 90}\n",
        "\n",
        "## ao contrário das listas para acessar um valor, você deve usar a chave, não o index\n",
        "print(names_by_age[\"carlos\"])"
      ]
    },
    {
      "cell_type": "code",
      "execution_count": null,
      "metadata": {
        "id": "qgVcbfAu5qah"
      },
      "outputs": [],
      "source": [
        "## O que acontece se inserirmos uma chave que não existe?\n",
        "\n",
        "users_by_page = {\"facebook\": 12, \"instagram\": 89, \"reddit\": 890}\n",
        "\n",
        "## Assim como nas listas, uma exceção é lançada\n",
        "print(users_by_page[\"no\"])"
      ]
    },
    {
      "cell_type": "code",
      "execution_count": null,
      "metadata": {
        "id": "9s8rUJHx5qaj",
        "outputId": "215bf2e4-22eb-4db9-ff10-aab736d7aa13"
      },
      "outputs": [
        {
          "name": "stdout",
          "output_type": "stream",
          "text": [
            "{'bulldog': 23, 'golden': 123}\n"
          ]
        }
      ],
      "source": [
        "## O que acontece se criarmos um dicionário com chaves duplicadas?\n",
        "\n",
        "dogs = {\"bulldog\": 23, \"golden\": 90, \"golden\": 123}\n",
        "\n",
        "## Como você pode ver, leva o último valor que inserimos no dicionário\n",
        "print(dogs)"
      ]
    },
    {
      "cell_type": "code",
      "execution_count": null,
      "metadata": {
        "id": "lIBiKmBG5qal",
        "outputId": "cf8d3a52-5812-4369-eaf7-df3b79f957d4"
      },
      "outputs": [
        {
          "name": "stdout",
          "output_type": "stream",
          "text": [
            "{'meow': 89, 'pelusa': 89}\n"
          ]
        }
      ],
      "source": [
        "## Como alteramos um valor no dicionário?\n",
        "\n",
        "cats = {\"meow\": 90, \"pelusa\": 89}\n",
        "\n",
        "cats[\"meow\"] = 89;\n",
        "\n",
        "print(cats)"
      ]
    },
    {
      "cell_type": "code",
      "source": [],
      "metadata": {
        "id": "EVuhHsh-8PLO"
      },
      "execution_count": null,
      "outputs": []
    },
    {
      "cell_type": "markdown",
      "metadata": {
        "id": "r6Nqc4BV5qam"
      },
      "source": [
        "Como nas listas podemos fazer várias operações com os dicionários, como:\n",
        "  * **get('key')**: Retorna o valor que corresponde à chave inserida.\n",
        "  * **pop('key')**: Retorna o valor que corresponde à chave inserida e, em seguida, exclui a chave e o valor.\n",
        "  * **update({'key':'value'})**: Insere uma determinada chave ou atualiza seu valor se já existir.\n",
        "  * **«chave» no dicionario**: Retorna verdadeiro (Verdadeiro) ou falso (Falso) se a chave (não os valores) existir no dicionário.\n",
        "  * **«definição» em dicionario.values()**: Retorna true (True) ou false (False) se a definição existir no dicionário (não como chave)."
      ]
    },
    {
      "cell_type": "code",
      "execution_count": null,
      "metadata": {
        "id": "9gfsE4x25qan",
        "outputId": "4eb1a6e0-2c4e-47aa-a316-6836e6c52557"
      },
      "outputs": [
        {
          "name": "stdout",
          "output_type": "stream",
          "text": [
            "{'list': [1, 2, 3, 4, 5]}\n"
          ]
        }
      ],
      "source": [
        "## Você pode experimentar as funções que quiser, pode até misturar listas com dicionários\n",
        "\n",
        "special_dict = {\"list\": [1, 2, 3, 4, 5]}\n",
        "print(special_dict)"
      ]
    },
    {
      "cell_type": "markdown",
      "metadata": {
        "id": "KmMkrbEc5qao"
      },
      "source": [
        "## Ejercicios"
      ]
    },
    {
      "cell_type": "markdown",
      "metadata": {
        "id": "z43EUa4J5qao"
      },
      "source": [
        "### Exercício 1\n",
        "\n",
        "Você se lembra do exercício da lição anterior em que pedimos para você fazer uma versão do jogo: pedra, papel, tesoura, lagarto, spock. Bem, como você sabe, no mundo da programação não existe apenas uma única solução, mas n soluções, então para este exercício vamos pedir que você escreva o mesmo jogo, assim como você fez na lição anterior, com uma diferença, você deve usar dicionários."
      ]
    },
    {
      "cell_type": "code",
      "execution_count": 2,
      "metadata": {
        "id": "7fgvgQHY5qap",
        "colab": {
          "base_uri": "https://localhost:8080/"
        },
        "outputId": "789d49c7-caca-45cd-d1d5-1fb0952f0e1f"
      },
      "outputs": [
        {
          "output_type": "stream",
          "name": "stdout",
          "text": [
            "Digite sua jogada 1: pedra\n",
            "Digite sua jogada 2: pedra\n",
            "o jogo empatou!\n"
          ]
        }
      ],
      "source": [
        "class Game:\n",
        "    def __init__(self):\n",
        "        self.jogo = \"jokenpo\"\n",
        "        self.entradasValidas = [\"pedra\", \"papel\", \"tesoura\", \"lagarto\", \"spock\"]\n",
        "        self.vencedores = {\n",
        "            (\"tesoura\", \"pedra\"): \"player_2\",\n",
        "            (\"tesoura\", \"spock\"): \"player_2\",\n",
        "            (\"lagarto\", \"tesoura\"): \"player_2\",\n",
        "            (\"lagarto\", \"pedra\"): \"player_2\",\n",
        "            (\"spock\", \"lagarto\"): \"player_2\",\n",
        "            (\"spock\", \"papel\"): \"player_2\",\n",
        "            (\"pedra\", \"papel\"): \"player_2\",\n",
        "            (\"pedra\", \"spock\"): \"player_2\",\n",
        "            (\"papel\", \"lagarto\"): \"player_2\",\n",
        "            (\"papel\", \"tesoura\"): \"player_2\",\n",
        "        }\n",
        "\n",
        "    def jogadores(self):\n",
        "        self.player_1 = input(\"Digite sua jogada 1: \")\n",
        "        self.player_2 = input(\"Digite sua jogada 2: \")\n",
        "\n",
        "        if self.player_1 not in self.entradasValidas or self.player_2 not in self.entradasValidas:\n",
        "            print(\"Entrada inválida, tente novamente\")\n",
        "            return\n",
        "\n",
        "        if self.player_1 == self.player_2:\n",
        "            print(\"o jogo empatou!\")\n",
        "        elif (self.player_1, self.player_2) in self.vencedores:\n",
        "            print(self.vencedores[(self.player_1, self.player_2)], \"é o vencedor!\")\n",
        "        else:\n",
        "            print(\"player_1 é o vencedor!\")\n",
        "\n",
        "chama = Game()\n",
        "chama.jogadores()\n"
      ]
    },
    {
      "cell_type": "markdown",
      "metadata": {
        "id": "BPx9i1SX5qap"
      },
      "source": [
        "### Exercício 2\n",
        "\n",
        "Lembre-se de como em um teste tentamos obter um índice que não existe de uma lista, mas uma exceção foi lançada, vamos imaginar que escrevemos nossa própria implementação e, em vez de mostrar uma exceção, mostraremos uma mensagem para o usuário dizendo : \"O índice que você está lidando para inserir não está na lista\", então deixamos essa classe, para que você complete o método get, para que, se o índice não existir, você imprima a mensagem, caso contrário, retorne o valor.\n"
      ]
    },
    {
      "cell_type": "code",
      "execution_count": 6,
      "metadata": {
        "id": "iB2qcamZ5qap"
      },
      "outputs": [],
      "source": [
        "class CustomList:\n",
        "    def __init__(self, items):\n",
        "        self.items = items\n",
        "    \n",
        "    def get(self, index):\n",
        "      if index < len(self.items):\n",
        "        return self.items[index] \n",
        "      else:\n",
        "         print(\"O índice que você está lidando para inserir não está na lista\")"
      ]
    },
    {
      "cell_type": "code",
      "execution_count": 7,
      "metadata": {
        "id": "wFgiWQTO5qaq",
        "colab": {
          "base_uri": "https://localhost:8080/"
        },
        "outputId": "ab439b93-c1dc-401f-e771-b86e7664a1cb"
      },
      "outputs": [
        {
          "output_type": "stream",
          "name": "stdout",
          "text": [
            "4\n",
            "O índice que você está lidando para inserir não está na lista\n",
            "None\n"
          ]
        }
      ],
      "source": [
        "custom_list = CustomList([1, 3, 4 ,5 ,6 ,7])\n",
        "\n",
        "## Deve retornar o valor 4\n",
        "print(custom_list.get(2))\n",
        "## Você deve imprimir a mensagem\n",
        "print(custom_list.get(90))"
      ]
    },
    {
      "cell_type": "markdown",
      "metadata": {
        "id": "xeOjEp5j5qaq"
      },
      "source": [
        "### Exercício 3\n",
        "\n",
        "Vamos continuar implementando a funcionalidade em nossa lista, neste caso queremos um método `delete`, que primeiro verifica se o valor que queremos excluir está na lista, caso contrário imprime uma mensagem que diz: \"O valor não está na lista\", caso contrário remova o valor."
      ]
    },
    {
      "cell_type": "code",
      "execution_count": 12,
      "metadata": {
        "id": "zUdG1wvd5qar"
      },
      "outputs": [],
      "source": [
        "class CustomList:\n",
        "    def __init__(self, items):\n",
        "        self.items = items\n",
        "    \n",
        "    def delete(self, index):\n",
        "        if index in self.items:\n",
        "            self.items.remove(index)\n",
        "            print(\"valor removido com susseso!\")\n",
        "        else:\n",
        "            print(\"O valor não está na lista\")"
      ]
    },
    {
      "cell_type": "code",
      "execution_count": 21,
      "metadata": {
        "id": "v2pk9GmK5qar",
        "colab": {
          "base_uri": "https://localhost:8080/"
        },
        "outputId": "e1ff7cb8-f8cc-4e8c-d9a2-86982a4118d6"
      },
      "outputs": [
        {
          "output_type": "stream",
          "name": "stdout",
          "text": [
            "O valor não está na lista\n"
          ]
        }
      ],
      "source": [
        "custom_list = CustomList([\"green\", \"blue\", \"yellow\", \"brown\"])\n",
        "\n",
        "## Você deve imprimir a mensagem\n",
        "custom_list.delete(\"no\")\n",
        "\n",
        "#custom_list.delete(\"blue\")\n"
      ]
    },
    {
      "cell_type": "markdown",
      "metadata": {
        "id": "n2swVsPD5qas"
      },
      "source": [
        "### Exercício 4\n",
        "\n",
        "Na classe seguinte que define uma sala de aula, temos um método check_student, que recebe como parâmetro o nome do aluno, você deve determinar se o aluno está presente ou não na lista. Retorna True se o aluno estiver presente, caso contrário retorna False."
      ]
    },
    {
      "cell_type": "code",
      "execution_count": 3,
      "metadata": {
        "id": "yBx_nie55qas"
      },
      "outputs": [],
      "source": [
        "class ClassRoom:\n",
        "    def __init__(self):\n",
        "        self.students = [\"Maria\", \"George\", \"Pablo\", \"Lucas\", \"Marco\", \"Tony\", \"Diego\"]\n",
        "        \n",
        "    def check_student(self, student):\n",
        "        if student in self.students:\n",
        "            return True\n",
        "        else:\n",
        "            return False"
      ]
    },
    {
      "cell_type": "code",
      "execution_count": 5,
      "metadata": {
        "id": "KXfBkAQ_5qas",
        "colab": {
          "base_uri": "https://localhost:8080/"
        },
        "outputId": "2cfbdbb1-c275-494e-ac0f-82a6ead1d1bd"
      },
      "outputs": [
        {
          "output_type": "execute_result",
          "data": {
            "text/plain": [
              "False"
            ]
          },
          "metadata": {},
          "execution_count": 5
        }
      ],
      "source": [
        "room_one = ClassRoom()\n",
        "## Deve retornar True\n",
        "room_one.check_student(\"Maria\")\n",
        "#room_one.check_student(\"Ana\")"
      ]
    }
  ],
  "metadata": {
    "kernelspec": {
      "display_name": "Python 3",
      "language": "python",
      "name": "python3"
    },
    "language_info": {
      "codemirror_mode": {
        "name": "ipython",
        "version": 3
      },
      "file_extension": ".py",
      "mimetype": "text/x-python",
      "name": "python",
      "nbconvert_exporter": "python",
      "pygments_lexer": "ipython3",
      "version": "3.6.7"
    },
    "colab": {
      "provenance": []
    }
  },
  "nbformat": 4,
  "nbformat_minor": 0
}