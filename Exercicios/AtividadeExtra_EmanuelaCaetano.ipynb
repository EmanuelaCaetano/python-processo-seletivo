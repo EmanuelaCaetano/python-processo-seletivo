{
  "nbformat": 4,
  "nbformat_minor": 0,
  "metadata": {
    "colab": {
      "provenance": []
    },
    "kernelspec": {
      "name": "python3",
      "display_name": "Python 3"
    },
    "language_info": {
      "name": "python"
    }
  },
  "cells": [
    {
      "cell_type": "code",
      "source": [
        "#o que são variaveis ?\n",
        "#são espaços para guardar informações no codigo\n",
        "\n",
        "nome = \"marcelo\"\n",
        "idade = 25\n",
        "\n",
        "print(nome + \" está com \" + str(idade) + \" anos\")"
      ],
      "metadata": {
        "colab": {
          "base_uri": "https://localhost:8080/"
        },
        "id": "bWD4tZQRqorm",
        "outputId": "6a04add1-c2bf-4655-9177-30643bc84b1a"
      },
      "execution_count": 20,
      "outputs": [
        {
          "output_type": "stream",
          "name": "stdout",
          "text": [
            "marcelo esta com 25 anos\n"
          ]
        }
      ]
    },
    {
      "cell_type": "code",
      "execution_count": 19,
      "metadata": {
        "colab": {
          "base_uri": "https://localhost:8080/"
        },
        "id": "lJL4Omp3lU6P",
        "outputId": "a682e736-55a9-48f9-ee83-3d815d2e3276"
      },
      "outputs": [
        {
          "output_type": "stream",
          "name": "stdout",
          "text": [
            "10\n"
          ]
        }
      ],
      "source": [
        "class Calculadora:\n",
        "  def __init__(self, marca):\n",
        "    self.marca = marca\n",
        "\n",
        "  def somar(self, num1,num2):\n",
        "    return num1 + num2\n",
        "\n",
        "  def subtrair(self, num1, num2):\n",
        "    return num1 - num2\n",
        "\n",
        "  def dividir(self, num1, num2):\n",
        "    return num1 / num2\n",
        "\n",
        "  def multiplicar(self, num1, num2):\n",
        "    return num1 * num2\n",
        "\n",
        "#print(calculadora.dividir(7, 3))\n",
        "calculadora = Calculadora(\"cassio\")\n",
        "\n",
        "print(calculadora.somar(8, 2))"
      ]
    },
    {
      "cell_type": "code",
      "source": [
        "numero_01 = 5\n",
        "numero_02 = 7\n",
        "numero_03 = 12\n",
        "\n",
        "if (numero_01 > numero_02):\n",
        "  print(\"numero 1 maior que todos\")\n",
        "elif (numero_01 < numero_02):\n",
        "  print(\"numero 1 menor que o numero 2\")\n",
        "else:\n",
        "  print(\"numero 1 igual ao numero 2\")"
      ],
      "metadata": {
        "colab": {
          "base_uri": "https://localhost:8080/"
        },
        "id": "2Mkjz6h6rTxE",
        "outputId": "571d9cdb-0071-4bb9-87b1-dbe50137255e"
      },
      "execution_count": 29,
      "outputs": [
        {
          "output_type": "stream",
          "name": "stdout",
          "text": [
            "numero 1 menor que o numero 2\n"
          ]
        }
      ]
    },
    {
      "cell_type": "code",
      "source": [
        "#um codigo que informe o nome do mes de acordo com o numero que voce inseriu  ou de erro caso não tenha o numero correspondente\n",
        "\n",
        "class Calendario:\n",
        "  def __init__(self):\n",
        "    self.ano = 2023\n",
        "\n",
        "  def comparando(self, numero):\n",
        "    self.numero = int(input(\"digite o número do mes: \"))\n",
        "    if (self.numero == 1):\n",
        "      print(\"Janeiro\")\n",
        "    elif (self.numero == 2):\n",
        "      print(\"fevereiro\")\n",
        "    elif (self.numero == 3):\n",
        "      print(\"março\")\n",
        "    elif (self.numero == 4):\n",
        "      print(\"abril\")\n",
        "    elif (self.numero == 5):\n",
        "      print(\"maio\")\n",
        "    elif (self.numero == 6):\n",
        "      print(\"junho\")\n",
        "    elif (self.numero == 7):\n",
        "      print(\"julho\")\n",
        "    elif (self.numero == 8):\n",
        "      print(\"agosto\")\n",
        "    elif (self.numero == 9):\n",
        "      print(\"setembro\")\n",
        "    elif (self.numero == 10):\n",
        "      print(\"outubro\")\n",
        "    elif (self.numero == 11):\n",
        "      print(\"novembro\")\n",
        "    elif (self.numero == 12):\n",
        "      print(\"dezembro\")\n",
        "    else:\n",
        "      print(\"digite um numero valido\")\n",
        "\n",
        "chamando = Calendario()\n",
        "chamando.comparando(5)"
      ],
      "metadata": {
        "colab": {
          "base_uri": "https://localhost:8080/"
        },
        "id": "FpPG42ljsR6z",
        "outputId": "2023d501-003a-47bc-cbc3-dff323f6b6e9"
      },
      "execution_count": 64,
      "outputs": [
        {
          "output_type": "stream",
          "name": "stdout",
          "text": [
            "Digite o número do mes: 0\n",
            "digite um numero valido\n"
          ]
        }
      ]
    }
  ]
}